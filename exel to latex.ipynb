{
 "cells": [
  {
   "cell_type": "code",
   "execution_count": 3,
   "id": "9cf315e1-6bd9-402c-910c-a970fa4ff86a",
   "metadata": {},
   "outputs": [
    {
     "name": "stdout",
     "output_type": "stream",
     "text": [
      "\\begin{tabular}{rrrrrrr}\n",
      "\\hline\n",
      "   I/mA &   U_E/V &   I_C/nA &   <j> nA/g &   delta<j> nA/g &   H[Sv/a] &   delta H[Sv/a] \\\\\n",
      "\\hline\n",
      "    1   &   4.17  &    4.17  &  24.2442   &        0.224254 & 24.7889   &        0.726584 \\\\\n",
      "    0.9 &   3.75  &    3.75  &  21.8023   &        0.215614 & 22.2921   &        0.698589 \\\\\n",
      "    0.8 &   3.38  &    3.38  &  19.6512   &        0.208507 & 20.0927   &        0.675562 \\\\\n",
      "    0.7 &   2.942 &    2.942 &  17.1047   &        0.200777 & 17.4889   &        0.650517 \\\\\n",
      "    0.6 &   2.555 &    2.555 &  14.8547   &        0.194629 & 15.1884   &        0.6306   \\\\\n",
      "    0.5 &   2.13  &    2.13  &  12.3837   &        0.188695 & 12.6619   &        0.61137  \\\\\n",
      "    0.4 &   1.723 &    1.723 &  10.0174   &        0.183885 & 10.2425   &        0.595789 \\\\\n",
      "    0.3 &   1.309 &    1.309 &   7.61047  &        0.179943 &  7.78144  &        0.583017 \\\\\n",
      "    0.2 &   0.881 &    0.881 &   5.12209  &        0.176943 &  5.23717  &        0.573294 \\\\\n",
      "    0.1 &   0.461 &    0.461 &   2.68023  &        0.175113 &  2.74045  &        0.567367 \\\\\n",
      "    0   &   0.025 &    0.025 &   0.145349 &        0.174421 &  0.148614 &        0.565123 \\\\\n",
      "\\hline\n",
      "\\end{tabular}\n"
     ]
    }
   ],
   "source": [
    "import numpy as np\n",
    "from tabulate import tabulate\n",
    "\n",
    "data = np.loadtxt(\"\bmsc.txt\", skiprows=1)\n",
    "\n",
    "\n",
    "columns_to_delete = [2, 4, 7]\n",
    "\n",
    "# Remove the unnecessary columns\n",
    "data = np.delete(data, columns_to_delete, axis=1)\n",
    "\n",
    "# header of Table\n",
    "headers = [\"I/mA\", \"U_E/V\", \"I_C/nA\", \"<j> nA/g\", \"delta<j> nA/g\", \"H[Sv/a]\",\"delta H[Sv/a]\"]\n",
    "\n",
    "# from data to Latex \n",
    "table = tabulate(data, headers=headers, tablefmt=\"latex_raw\")\n",
    "\n",
    "print(table)\n"
   ]
  },
  {
   "cell_type": "code",
   "execution_count": 8,
   "id": "b4f41b28-39e6-47b3-85f0-a83d1e94e5b7",
   "metadata": {},
   "outputs": [
    {
     "name": "stdout",
     "output_type": "stream",
     "text": [
      "\\begin{tabular}{rrrrrrrr}\n",
      "\\hline\n",
      "   U_R/kV &   U_E/V &   I_C/nA &   delta I/nA &   <j> nA/g &   delta<j> nA/g &   H[Sv/a] &   delta H[Sv/a] \\\\\n",
      "\\hline\n",
      "      0   &   0.025 &    0.025 &         0.03 &       0.17 &             0.2 &      0.17 &            0.21 \\\\\n",
      "      2.5 &   0.024 &    0.024 &         0.03 &       0.16 &             0.2 &      0.17 &            0.21 \\\\\n",
      "      5   &   0.024 &    0.024 &         0.03 &       0.16 &             0.2 &      0.17 &            0.21 \\\\\n",
      "      7.5 &   0.023 &    0.023 &         0.03 &       0.16 &             0.2 &      0.16 &            0.21 \\\\\n",
      "     10   &   0.027 &    0.027 &         0.03 &       0.18 &             0.2 &      0.19 &            0.21 \\\\\n",
      "     12.5 &   0.045 &    0.045 &         0.03 &       0.31 &             0.2 &      0.31 &            0.21 \\\\\n",
      "     15   &   0.124 &    0.124 &         0.03 &       0.84 &             0.2 &      0.86 &            0.21 \\\\\n",
      "     17.5 &   0.285 &    0.285 &         0.03 &       1.94 &             0.2 &      1.99 &            0.21 \\\\\n",
      "     20   &   0.517 &    0.517 &         0.03 &       3.52 &             0.2 &      3.6  &            0.21 \\\\\n",
      "     22.5 &   0.882 &    0.882 &         0.03 &       6.01 &             0.2 &      6.15 &            0.21 \\\\\n",
      "     25   &   1.382 &    1.382 &         0.03 &       9.42 &             0.2 &      9.63 &            0.21 \\\\\n",
      "     27.5 &   1.978 &    1.978 &         0.03 &      13.48 &             0.2 &     13.78 &            0.21 \\\\\n",
      "     30   &   2.635 &    2.635 &         0.03 &      17.96 &             0.2 &     18.36 &            0.21 \\\\\n",
      "     32.5 &   3.404 &    3.404 &         0.03 &      23.2  &             0.2 &     23.72 &            0.21 \\\\\n",
      "     35   &   4.21  &    4.21  &         0.03 &      28.69 &             0.2 &     29.33 &            0.21 \\\\\n",
      "\\hline\n",
      "\\end{tabular}\n"
     ]
    }
   ],
   "source": [
    "\n",
    "import numpy as np\n",
    "from tabulate import tabulate\n",
    "\n",
    "data = np.loadtxt(\"\bmsc.txt\", skiprows=1)\n",
    "\n",
    "\n",
    "# header of Table\n",
    "headers = [\"U_R/kV\", \"U_E/V\", \"I_C/nA\",\"delta I/nA\", \"<j> nA/g\", \"delta<j> nA/g\", \"H[Sv/a]\",\"delta H[Sv/a]\"]\n",
    "\n",
    "# from data to Latex \n",
    "table = tabulate(data, headers=headers, tablefmt=\"latex_raw\")\n",
    "\n",
    "print(table)\n"
   ]
  },
  {
   "cell_type": "code",
   "execution_count": null,
   "id": "6b8435ec-97c7-41b1-98c2-1335df443b01",
   "metadata": {},
   "outputs": [],
   "source": []
  }
 ],
 "metadata": {
  "kernelspec": {
   "display_name": "Python 3 (ipykernel)",
   "language": "python",
   "name": "python3"
  },
  "language_info": {
   "codemirror_mode": {
    "name": "ipython",
    "version": 3
   },
   "file_extension": ".py",
   "mimetype": "text/x-python",
   "name": "python",
   "nbconvert_exporter": "python",
   "pygments_lexer": "ipython3",
   "version": "3.9.10"
  }
 },
 "nbformat": 4,
 "nbformat_minor": 5
}
